{
 "cells": [
  {
   "cell_type": "markdown",
   "metadata": {},
   "source": [
    "## Examen Práctico\n",
    "David Armendáriz - A01570813"
   ]
  },
  {
   "cell_type": "markdown",
   "metadata": {},
   "source": [
    "### Prepocesamiento"
   ]
  },
  {
   "cell_type": "code",
   "execution_count": 14,
   "metadata": {},
   "outputs": [],
   "source": [
    "# Importar: Librerías \n",
    "import pandas as pd\n",
    "import numpy as np"
   ]
  },
  {
   "cell_type": "code",
   "execution_count": 17,
   "metadata": {},
   "outputs": [
    {
     "data": {
      "text/html": [
       "<div>\n",
       "<style scoped>\n",
       "    .dataframe tbody tr th:only-of-type {\n",
       "        vertical-align: middle;\n",
       "    }\n",
       "\n",
       "    .dataframe tbody tr th {\n",
       "        vertical-align: top;\n",
       "    }\n",
       "\n",
       "    .dataframe thead th {\n",
       "        text-align: right;\n",
       "    }\n",
       "</style>\n",
       "<table border=\"1\" class=\"dataframe\">\n",
       "  <thead>\n",
       "    <tr style=\"text-align: right;\">\n",
       "      <th></th>\n",
       "      <th>Indicator ID</th>\n",
       "      <th>Name</th>\n",
       "      <th>Measure</th>\n",
       "      <th>Measure Info</th>\n",
       "      <th>Geo Type Name</th>\n",
       "      <th>Geo Join ID</th>\n",
       "      <th>Geo Place Name</th>\n",
       "      <th>Time Period</th>\n",
       "      <th>Start_Date</th>\n",
       "      <th>Data Value</th>\n",
       "      <th>Message</th>\n",
       "    </tr>\n",
       "    <tr>\n",
       "      <th>Unique ID</th>\n",
       "      <th></th>\n",
       "      <th></th>\n",
       "      <th></th>\n",
       "      <th></th>\n",
       "      <th></th>\n",
       "      <th></th>\n",
       "      <th></th>\n",
       "      <th></th>\n",
       "      <th></th>\n",
       "      <th></th>\n",
       "      <th></th>\n",
       "    </tr>\n",
       "  </thead>\n",
       "  <tbody>\n",
       "    <tr>\n",
       "      <th>172653</th>\n",
       "      <td>375</td>\n",
       "      <td>Nitrogen dioxide (NO2)</td>\n",
       "      <td>Mean</td>\n",
       "      <td>ppb</td>\n",
       "      <td>UHF34</td>\n",
       "      <td>203</td>\n",
       "      <td>Bedford Stuyvesant - Crown Heights</td>\n",
       "      <td>Annual Average 2011</td>\n",
       "      <td>12/01/2010</td>\n",
       "      <td>25.30</td>\n",
       "      <td>NaN</td>\n",
       "    </tr>\n",
       "    <tr>\n",
       "      <th>172585</th>\n",
       "      <td>375</td>\n",
       "      <td>Nitrogen dioxide (NO2)</td>\n",
       "      <td>Mean</td>\n",
       "      <td>ppb</td>\n",
       "      <td>UHF34</td>\n",
       "      <td>203</td>\n",
       "      <td>Bedford Stuyvesant - Crown Heights</td>\n",
       "      <td>Annual Average 2009</td>\n",
       "      <td>12/01/2008</td>\n",
       "      <td>26.93</td>\n",
       "      <td>NaN</td>\n",
       "    </tr>\n",
       "    <tr>\n",
       "      <th>336637</th>\n",
       "      <td>375</td>\n",
       "      <td>Nitrogen dioxide (NO2)</td>\n",
       "      <td>Mean</td>\n",
       "      <td>ppb</td>\n",
       "      <td>UHF34</td>\n",
       "      <td>204</td>\n",
       "      <td>East New York</td>\n",
       "      <td>Annual Average 2015</td>\n",
       "      <td>01/01/2015</td>\n",
       "      <td>19.09</td>\n",
       "      <td>NaN</td>\n",
       "    </tr>\n",
       "    <tr>\n",
       "      <th>336622</th>\n",
       "      <td>375</td>\n",
       "      <td>Nitrogen dioxide (NO2)</td>\n",
       "      <td>Mean</td>\n",
       "      <td>ppb</td>\n",
       "      <td>UHF34</td>\n",
       "      <td>103</td>\n",
       "      <td>Fordham - Bronx Pk</td>\n",
       "      <td>Annual Average 2015</td>\n",
       "      <td>01/01/2015</td>\n",
       "      <td>19.76</td>\n",
       "      <td>NaN</td>\n",
       "    </tr>\n",
       "    <tr>\n",
       "      <th>172582</th>\n",
       "      <td>375</td>\n",
       "      <td>Nitrogen dioxide (NO2)</td>\n",
       "      <td>Mean</td>\n",
       "      <td>ppb</td>\n",
       "      <td>UHF34</td>\n",
       "      <td>104</td>\n",
       "      <td>Pelham - Throgs Neck</td>\n",
       "      <td>Annual Average 2009</td>\n",
       "      <td>12/01/2008</td>\n",
       "      <td>22.83</td>\n",
       "      <td>NaN</td>\n",
       "    </tr>\n",
       "  </tbody>\n",
       "</table>\n",
       "</div>"
      ],
      "text/plain": [
       "           Indicator ID                    Name Measure Measure Info  \\\n",
       "Unique ID                                                              \n",
       "172653              375  Nitrogen dioxide (NO2)    Mean          ppb   \n",
       "172585              375  Nitrogen dioxide (NO2)    Mean          ppb   \n",
       "336637              375  Nitrogen dioxide (NO2)    Mean          ppb   \n",
       "336622              375  Nitrogen dioxide (NO2)    Mean          ppb   \n",
       "172582              375  Nitrogen dioxide (NO2)    Mean          ppb   \n",
       "\n",
       "          Geo Type Name  Geo Join ID                      Geo Place Name  \\\n",
       "Unique ID                                                                  \n",
       "172653            UHF34          203  Bedford Stuyvesant - Crown Heights   \n",
       "172585            UHF34          203  Bedford Stuyvesant - Crown Heights   \n",
       "336637            UHF34          204                       East New York   \n",
       "336622            UHF34          103                  Fordham - Bronx Pk   \n",
       "172582            UHF34          104                Pelham - Throgs Neck   \n",
       "\n",
       "                   Time Period  Start_Date  Data Value  Message  \n",
       "Unique ID                                                        \n",
       "172653     Annual Average 2011  12/01/2010       25.30      NaN  \n",
       "172585     Annual Average 2009  12/01/2008       26.93      NaN  \n",
       "336637     Annual Average 2015  01/01/2015       19.09      NaN  \n",
       "336622     Annual Average 2015  01/01/2015       19.76      NaN  \n",
       "172582     Annual Average 2009  12/01/2008       22.83      NaN  "
      ]
     },
     "execution_count": 17,
     "metadata": {},
     "output_type": "execute_result"
    }
   ],
   "source": [
    "# Importar: BD Air Quality\n",
    "df = pd.read_csv(\"Air_Quality.csv\", index_col=0)\n",
    "df.head()"
   ]
  },
  {
   "cell_type": "code",
   "execution_count": 77,
   "metadata": {},
   "outputs": [
    {
     "name": "stdout",
     "output_type": "stream",
     "text": [
      "<class 'pandas.core.frame.DataFrame'>\n",
      "Int64Index: 16218 entries, 172653 to 325247\n",
      "Data columns (total 11 columns):\n",
      " #   Column          Non-Null Count  Dtype  \n",
      "---  ------          --------------  -----  \n",
      " 0   Indicator ID    16218 non-null  int64  \n",
      " 1   Name            16218 non-null  object \n",
      " 2   Measure         16218 non-null  object \n",
      " 3   Measure Info    16218 non-null  object \n",
      " 4   Geo Type Name   16218 non-null  object \n",
      " 5   Geo Join ID     16218 non-null  int64  \n",
      " 6   Geo Place Name  16218 non-null  object \n",
      " 7   Time Period     16218 non-null  object \n",
      " 8   Start_Date      16218 non-null  object \n",
      " 9   Data Value      16218 non-null  float64\n",
      " 10  Message         0 non-null      float64\n",
      "dtypes: float64(2), int64(2), object(7)\n",
      "memory usage: 1.5+ MB\n"
     ]
    }
   ],
   "source": [
    "df.info()"
   ]
  },
  {
   "cell_type": "code",
   "execution_count": 23,
   "metadata": {},
   "outputs": [
    {
     "data": {
      "text/html": [
       "<div>\n",
       "<style scoped>\n",
       "    .dataframe tbody tr th:only-of-type {\n",
       "        vertical-align: middle;\n",
       "    }\n",
       "\n",
       "    .dataframe tbody tr th {\n",
       "        vertical-align: top;\n",
       "    }\n",
       "\n",
       "    .dataframe thead th {\n",
       "        text-align: right;\n",
       "    }\n",
       "</style>\n",
       "<table border=\"1\" class=\"dataframe\">\n",
       "  <thead>\n",
       "    <tr style=\"text-align: right;\">\n",
       "      <th></th>\n",
       "      <th>Name</th>\n",
       "      <th>Data Value</th>\n",
       "      <th>Geo Join ID</th>\n",
       "      <th>Geo Type Name</th>\n",
       "    </tr>\n",
       "    <tr>\n",
       "      <th>Unique ID</th>\n",
       "      <th></th>\n",
       "      <th></th>\n",
       "      <th></th>\n",
       "      <th></th>\n",
       "    </tr>\n",
       "  </thead>\n",
       "  <tbody>\n",
       "    <tr>\n",
       "      <th>172653</th>\n",
       "      <td>Nitrogen dioxide (NO2)</td>\n",
       "      <td>25.30</td>\n",
       "      <td>203</td>\n",
       "      <td>UHF34</td>\n",
       "    </tr>\n",
       "    <tr>\n",
       "      <th>172585</th>\n",
       "      <td>Nitrogen dioxide (NO2)</td>\n",
       "      <td>26.93</td>\n",
       "      <td>203</td>\n",
       "      <td>UHF34</td>\n",
       "    </tr>\n",
       "    <tr>\n",
       "      <th>336637</th>\n",
       "      <td>Nitrogen dioxide (NO2)</td>\n",
       "      <td>19.09</td>\n",
       "      <td>204</td>\n",
       "      <td>UHF34</td>\n",
       "    </tr>\n",
       "    <tr>\n",
       "      <th>336622</th>\n",
       "      <td>Nitrogen dioxide (NO2)</td>\n",
       "      <td>19.76</td>\n",
       "      <td>103</td>\n",
       "      <td>UHF34</td>\n",
       "    </tr>\n",
       "    <tr>\n",
       "      <th>172582</th>\n",
       "      <td>Nitrogen dioxide (NO2)</td>\n",
       "      <td>22.83</td>\n",
       "      <td>104</td>\n",
       "      <td>UHF34</td>\n",
       "    </tr>\n",
       "  </tbody>\n",
       "</table>\n",
       "</div>"
      ],
      "text/plain": [
       "                             Name  Data Value  Geo Join ID Geo Type Name\n",
       "Unique ID                                                               \n",
       "172653     Nitrogen dioxide (NO2)       25.30          203         UHF34\n",
       "172585     Nitrogen dioxide (NO2)       26.93          203         UHF34\n",
       "336637     Nitrogen dioxide (NO2)       19.09          204         UHF34\n",
       "336622     Nitrogen dioxide (NO2)       19.76          103         UHF34\n",
       "172582     Nitrogen dioxide (NO2)       22.83          104         UHF34"
      ]
     },
     "execution_count": 23,
     "metadata": {},
     "output_type": "execute_result"
    }
   ],
   "source": [
    "# BD: Auxiliares | Purgar datos innecesarios\n",
    "df_aux = df.copy()\n",
    "\n",
    "# Filtrar: por contaminante (NO2, PM2.5, O3)\n",
    "values_to_keep_pollutant = [\"Nitrogen dioxide (NO2)\", \"Fine particles (PM 2.5)\", \"Ozone (O3)\"]\n",
    "df_aux = df_aux[df_aux['Name'].isin(values_to_keep_pollutant)]\n",
    "\n",
    "# Filtrar: por Geo Type\n",
    "values_to_keep_location = [\"UHF42\", \"UHF34\", \"CD\"]\n",
    "df_aux = df_aux[df_aux['Geo Type Name'].isin(values_to_keep_location)]\n",
    "\n",
    "df_aux = df_aux[[\"Name\", \"Data Value\", \"Geo Join ID\", \"Geo Type Name\"]]\n",
    "df_aux.head()"
   ]
  },
  {
   "cell_type": "code",
   "execution_count": 79,
   "metadata": {},
   "outputs": [
    {
     "data": {
      "text/plain": [
       "Nitrogen dioxide (NO2)     5265\n",
       "Fine particles (PM 2.5)    5265\n",
       "Ozone (O3)                 1890\n",
       "Name: Name, dtype: int64"
      ]
     },
     "execution_count": 79,
     "metadata": {},
     "output_type": "execute_result"
    }
   ],
   "source": [
    "df_aux[\"Name\"].value_counts()"
   ]
  },
  {
   "cell_type": "code",
   "execution_count": 25,
   "metadata": {},
   "outputs": [],
   "source": [
    "# Convertir: UHF34 -> UHF 42\n",
    "df_aux[\"Geo Join ID\"] = df_aux[\"Geo Join ID\"].replace([105106107, 404406, 501503, 306308, 309310, 305307, 503504, 501502],\n",
    "                                                          [106, 405, 502, 307, 309, 306, 504, 502])\n",
    "df_aux[\"Geo Type Name\"] = df_aux[\"Geo Type Name\"].replace(\"UHF34\", \"UHF42\")"
   ]
  },
  {
   "cell_type": "code",
   "execution_count": 37,
   "metadata": {},
   "outputs": [],
   "source": [
    "# Convertir: Dataframe -> Numpy Array\n",
    "# NO2\n",
    "np_NO2_UHF = df_aux[(df_aux[\"Name\"]==\"Nitrogen dioxide (NO2)\") & (df_aux[\"Geo Type Name\"]==\"UHF42\")].drop(df_aux.columns[[0,-1]], axis=1).to_numpy()\n",
    "np_NO2_CD = df_aux[(df_aux[\"Name\"]==\"Nitrogen dioxide (NO2)\") & (df_aux[\"Geo Type Name\"]==\"CD\")].drop(df_aux.columns[[0,-1]], axis=1).to_numpy()\n",
    "\n",
    "# PM2.5\n",
    "np_PM25_UHF = df_aux[(df_aux[\"Name\"]==\"Fine particles (PM 2.5)\") & (df_aux[\"Geo Type Name\"]==\"UHF42\")].drop(df_aux.columns[[0,-1]], axis=1).to_numpy()\n",
    "np_PM25_CD = df_aux[(df_aux[\"Name\"]==\"Fine particles (PM 2.5)\") & (df_aux[\"Geo Type Name\"]==\"CD\")].drop(df_aux.columns[[0,-1]], axis=1).to_numpy()\n",
    "\n",
    "# O3\n",
    "np_O3_UHF = df_aux[(df_aux[\"Name\"]==\"Ozone (O3)\") & (df_aux[\"Geo Type Name\"]==\"UHF42\")].drop(df_aux.columns[[0,-1]], axis=1).to_numpy()\n",
    "np_O3_CD = df_aux[(df_aux[\"Name\"]==\"Ozone (O3)\") & (df_aux[\"Geo Type Name\"]==\"CD\")].drop(df_aux.columns[[0,-1]], axis=1).to_numpy()\n"
   ]
  },
  {
   "cell_type": "markdown",
   "metadata": {},
   "source": [
    "### Mapper"
   ]
  },
  {
   "cell_type": "code",
   "execution_count": 40,
   "metadata": {},
   "outputs": [],
   "source": [
    "# Importar: Librerías\n",
    "import kmapper as km\n",
    "import sklearn\n",
    "import warnings\n",
    "warnings.filterwarnings(\"ignore\")"
   ]
  },
  {
   "cell_type": "code",
   "execution_count": 66,
   "metadata": {},
   "outputs": [],
   "source": [
    "# Función Mapper\n",
    "def map_pol(data, data_name, proj, ncubes, pover, Kclusters):\n",
    "    # Inicializar: Mapper\n",
    "    mapper = km.KeplerMapper(verbose=1)\n",
    "\n",
    "    # Generar: Proyección sobre distritos\n",
    "    projected_data = mapper.fit_transform(data, projection=[proj])\n",
    "\n",
    "    # Generar: Cubierta\n",
    "    covering = km.Cover(n_cubes=ncubes, perc_overlap=pover)\n",
    "\n",
    "    # Generar: Mapeo\n",
    "    graph = mapper.map(projected_data, data, clusterer=sklearn.cluster.KMeans(n_clusters = Kclusters), cover=covering)\n",
    "\n",
    "    # Mapeo: Color a base de contaminante\n",
    "    \n",
    "    mapper.visualize(graph, path_html=\"Mapeo C \" + data_name + \".html\",\n",
    "                 title=\"Mapeo Color: Contaminante \" + data_name,\n",
    "                 color_values = data[:,0],\n",
    "                 color_function_name = \"Data Value\",\n",
    "                 node_color_function=np.array(['average','std','sum','max','min']))\n",
    "    \n",
    "    colorscale = [\n",
    "        [0.0, \"rgb(231, 76, 60)\"], # Rojo Bronx\n",
    "        [0.25, \"rgb(142, 68, 173)\"], # Morado Brooklyn  \n",
    "        [0.5, \"rgb(52, 152, 219)\"], # Azul Manhatan\n",
    "        [0.75, \"rgb(46, 204, 113)\"], # Verde Queens\n",
    "        [1.0, \"rgb(247, 220, 111)\"] # Amarillo Staten Island\n",
    "    ]\n",
    "\n",
    "    # Mapeo: color a base de casos confirmados\n",
    "    \n",
    "\n",
    "    mapper.visualize(graph, path_html=\"Mapeo D \" + data_name + \".html\",\n",
    "                 title=\"Mapeo Color: Distritos \" + data_name,\n",
    "                 color_values = np.around(data[:,1],-2),\n",
    "                 color_function_name = \"Data Value\",\n",
    "                 node_color_function=np.array(['average','std','sum','max','min']),\n",
    "                 colorscale=colorscale)"
   ]
  },
  {
   "cell_type": "markdown",
   "metadata": {},
   "source": [
    "##### NO2"
   ]
  },
  {
   "cell_type": "code",
   "execution_count": 70,
   "metadata": {},
   "outputs": [
    {
     "name": "stdout",
     "output_type": "stream",
     "text": [
      "KeplerMapper(verbose=1)\n",
      "..Composing projection pipeline of length 1:\n",
      "\tProjections: [1]\n",
      "\tDistance matrices: False\n",
      "\tScalers: MinMaxScaler()\n",
      "..Projecting on data shaped (2964, 2)\n",
      "\n",
      "..Projecting data using: [1]\n",
      "\n",
      "..Scaling with: MinMaxScaler()\n",
      "\n",
      "Mapping on data shaped (2964, 2) using lens shaped (2964, 1)\n",
      "\n",
      "Creating 5 hypercubes.\n",
      "\n",
      "Created 67 edges and 40 nodes in 0:00:00.752159.\n",
      "Wrote visualization to: Mapeo C NO2_UHF42.html\n",
      "Wrote visualization to: Mapeo D NO2_UHF42.html\n"
     ]
    }
   ],
   "source": [
    "map_pol(np_NO2_UHF, \"NO2_UHF42\", 1, 5, 0.7, 8)"
   ]
  },
  {
   "cell_type": "code",
   "execution_count": 71,
   "metadata": {},
   "outputs": [
    {
     "name": "stdout",
     "output_type": "stream",
     "text": [
      "KeplerMapper(verbose=1)\n",
      "..Composing projection pipeline of length 1:\n",
      "\tProjections: [1]\n",
      "\tDistance matrices: False\n",
      "\tScalers: MinMaxScaler()\n",
      "..Projecting on data shaped (2301, 2)\n",
      "\n",
      "..Projecting data using: [1]\n",
      "\n",
      "..Scaling with: MinMaxScaler()\n",
      "\n",
      "Mapping on data shaped (2301, 2) using lens shaped (2301, 1)\n",
      "\n",
      "Creating 5 hypercubes.\n",
      "\n",
      "Created 68 edges and 40 nodes in 0:00:00.687513.\n",
      "Wrote visualization to: Mapeo C NO2_CD.html\n",
      "Wrote visualization to: Mapeo D NO2_CD.html\n"
     ]
    }
   ],
   "source": [
    "map_pol(np_NO2_CD, \"NO2_CD\", 1, 5, 0.7, 8)"
   ]
  },
  {
   "cell_type": "markdown",
   "metadata": {},
   "source": [
    "##### PM 2.5"
   ]
  },
  {
   "cell_type": "code",
   "execution_count": 72,
   "metadata": {},
   "outputs": [
    {
     "name": "stdout",
     "output_type": "stream",
     "text": [
      "KeplerMapper(verbose=1)\n",
      "..Composing projection pipeline of length 1:\n",
      "\tProjections: [1]\n",
      "\tDistance matrices: False\n",
      "\tScalers: MinMaxScaler()\n",
      "..Projecting on data shaped (2964, 2)\n",
      "\n",
      "..Projecting data using: [1]\n",
      "\n",
      "..Scaling with: MinMaxScaler()\n",
      "\n",
      "Mapping on data shaped (2964, 2) using lens shaped (2964, 1)\n",
      "\n",
      "Creating 5 hypercubes.\n",
      "\n",
      "Created 75 edges and 40 nodes in 0:00:00.893043.\n",
      "Wrote visualization to: Mapeo C PM2.5_UHF42.html\n",
      "Wrote visualization to: Mapeo D PM2.5_UHF42.html\n"
     ]
    }
   ],
   "source": [
    "map_pol(np_PM25_UHF, \"PM2.5_UHF42\", 1, 5, 0.7, 8)"
   ]
  },
  {
   "cell_type": "code",
   "execution_count": 73,
   "metadata": {},
   "outputs": [
    {
     "name": "stdout",
     "output_type": "stream",
     "text": [
      "KeplerMapper(verbose=1)\n",
      "..Composing projection pipeline of length 1:\n",
      "\tProjections: [1]\n",
      "\tDistance matrices: False\n",
      "\tScalers: MinMaxScaler()\n",
      "..Projecting on data shaped (2301, 2)\n",
      "\n",
      "..Projecting data using: [1]\n",
      "\n",
      "..Scaling with: MinMaxScaler()\n",
      "\n",
      "Mapping on data shaped (2301, 2) using lens shaped (2301, 1)\n",
      "\n",
      "Creating 5 hypercubes.\n",
      "\n",
      "Created 66 edges and 40 nodes in 0:00:00.740683.\n",
      "Wrote visualization to: Mapeo C PM2.5_CD.html\n",
      "Wrote visualization to: Mapeo D PM2.5_CD.html\n"
     ]
    }
   ],
   "source": [
    "map_pol(np_PM25_CD, \"PM2.5_CD\", 1, 5, 0.7, 8)"
   ]
  },
  {
   "cell_type": "markdown",
   "metadata": {},
   "source": [
    "##### O3"
   ]
  },
  {
   "cell_type": "code",
   "execution_count": 74,
   "metadata": {},
   "outputs": [
    {
     "name": "stdout",
     "output_type": "stream",
     "text": [
      "KeplerMapper(verbose=1)\n",
      "..Composing projection pipeline of length 1:\n",
      "\tProjections: [1]\n",
      "\tDistance matrices: False\n",
      "\tScalers: MinMaxScaler()\n",
      "..Projecting on data shaped (1064, 2)\n",
      "\n",
      "..Projecting data using: [1]\n",
      "\n",
      "..Scaling with: MinMaxScaler()\n",
      "\n",
      "Mapping on data shaped (1064, 2) using lens shaped (1064, 1)\n",
      "\n",
      "Creating 5 hypercubes.\n",
      "\n",
      "Created 70 edges and 40 nodes in 0:00:00.645833.\n",
      "Wrote visualization to: Mapeo C O3_UHF42.html\n",
      "Wrote visualization to: Mapeo D O3_UHF42.html\n"
     ]
    }
   ],
   "source": [
    "map_pol(np_O3_UHF, \"O3_UHF42\", 1, 5, 0.7, 8)"
   ]
  },
  {
   "cell_type": "code",
   "execution_count": 75,
   "metadata": {},
   "outputs": [
    {
     "name": "stdout",
     "output_type": "stream",
     "text": [
      "KeplerMapper(verbose=1)\n",
      "..Composing projection pipeline of length 1:\n",
      "\tProjections: [1]\n",
      "\tDistance matrices: False\n",
      "\tScalers: MinMaxScaler()\n",
      "..Projecting on data shaped (826, 2)\n",
      "\n",
      "..Projecting data using: [1]\n",
      "\n",
      "..Scaling with: MinMaxScaler()\n",
      "\n",
      "Mapping on data shaped (826, 2) using lens shaped (826, 1)\n",
      "\n",
      "Creating 5 hypercubes.\n",
      "\n",
      "Created 67 edges and 40 nodes in 0:00:00.638921.\n",
      "Wrote visualization to: Mapeo C O3_CD.html\n",
      "Wrote visualization to: Mapeo D O3_CD.html\n"
     ]
    }
   ],
   "source": [
    "map_pol(np_O3_CD, \"O3_CD\", 1, 5, 0.7, 8)"
   ]
  }
 ],
 "metadata": {
  "kernelspec": {
   "display_name": "Python 3",
   "language": "python",
   "name": "python3"
  },
  "language_info": {
   "codemirror_mode": {
    "name": "ipython",
    "version": 3
   },
   "file_extension": ".py",
   "mimetype": "text/x-python",
   "name": "python",
   "nbconvert_exporter": "python",
   "pygments_lexer": "ipython3",
   "version": "3.11.2"
  }
 },
 "nbformat": 4,
 "nbformat_minor": 2
}
